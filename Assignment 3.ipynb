{
 "cells": [
  {
   "cell_type": "code",
   "execution_count": 1,
   "id": "45e5253c-311e-433b-892b-8b25236a0d56",
   "metadata": {},
   "outputs": [],
   "source": [
    "import pandas as pd\n",
    "import numpy as np"
   ]
  },
  {
   "cell_type": "code",
   "execution_count": 30,
   "id": "ed8d0f04-e7b5-4dcd-bee5-a23cd4364f60",
   "metadata": {},
   "outputs": [],
   "source": [
    "#Load the dataset into the tool\n",
    "\n",
    "df = pd.read_csv(\"D:\\smart Bridge Data Science Course\\Housing.csv\")"
   ]
  },
  {
   "cell_type": "code",
   "execution_count": 3,
   "id": "b376e5c7-2ca5-4e60-b394-d9d05b38353a",
   "metadata": {},
   "outputs": [
    {
     "data": {
      "text/html": [
       "<div>\n",
       "<style scoped>\n",
       "    .dataframe tbody tr th:only-of-type {\n",
       "        vertical-align: middle;\n",
       "    }\n",
       "\n",
       "    .dataframe tbody tr th {\n",
       "        vertical-align: top;\n",
       "    }\n",
       "\n",
       "    .dataframe thead th {\n",
       "        text-align: right;\n",
       "    }\n",
       "</style>\n",
       "<table border=\"1\" class=\"dataframe\">\n",
       "  <thead>\n",
       "    <tr style=\"text-align: right;\">\n",
       "      <th></th>\n",
       "      <th>price</th>\n",
       "      <th>area</th>\n",
       "      <th>bedrooms</th>\n",
       "      <th>bathrooms</th>\n",
       "      <th>stories</th>\n",
       "      <th>mainroad</th>\n",
       "      <th>guestroom</th>\n",
       "      <th>basement</th>\n",
       "      <th>hotwaterheating</th>\n",
       "      <th>airconditioning</th>\n",
       "      <th>parking</th>\n",
       "      <th>furnishingstatus</th>\n",
       "    </tr>\n",
       "  </thead>\n",
       "  <tbody>\n",
       "    <tr>\n",
       "      <th>0</th>\n",
       "      <td>13300000</td>\n",
       "      <td>7420</td>\n",
       "      <td>4</td>\n",
       "      <td>2</td>\n",
       "      <td>3</td>\n",
       "      <td>yes</td>\n",
       "      <td>no</td>\n",
       "      <td>no</td>\n",
       "      <td>no</td>\n",
       "      <td>yes</td>\n",
       "      <td>2</td>\n",
       "      <td>furnished</td>\n",
       "    </tr>\n",
       "    <tr>\n",
       "      <th>1</th>\n",
       "      <td>12250000</td>\n",
       "      <td>8960</td>\n",
       "      <td>4</td>\n",
       "      <td>4</td>\n",
       "      <td>4</td>\n",
       "      <td>yes</td>\n",
       "      <td>no</td>\n",
       "      <td>no</td>\n",
       "      <td>no</td>\n",
       "      <td>yes</td>\n",
       "      <td>3</td>\n",
       "      <td>furnished</td>\n",
       "    </tr>\n",
       "    <tr>\n",
       "      <th>2</th>\n",
       "      <td>12250000</td>\n",
       "      <td>9960</td>\n",
       "      <td>3</td>\n",
       "      <td>2</td>\n",
       "      <td>2</td>\n",
       "      <td>yes</td>\n",
       "      <td>no</td>\n",
       "      <td>yes</td>\n",
       "      <td>no</td>\n",
       "      <td>no</td>\n",
       "      <td>2</td>\n",
       "      <td>semi-furnished</td>\n",
       "    </tr>\n",
       "    <tr>\n",
       "      <th>3</th>\n",
       "      <td>12215000</td>\n",
       "      <td>7500</td>\n",
       "      <td>4</td>\n",
       "      <td>2</td>\n",
       "      <td>2</td>\n",
       "      <td>yes</td>\n",
       "      <td>no</td>\n",
       "      <td>yes</td>\n",
       "      <td>no</td>\n",
       "      <td>yes</td>\n",
       "      <td>3</td>\n",
       "      <td>furnished</td>\n",
       "    </tr>\n",
       "    <tr>\n",
       "      <th>4</th>\n",
       "      <td>11410000</td>\n",
       "      <td>7420</td>\n",
       "      <td>4</td>\n",
       "      <td>1</td>\n",
       "      <td>2</td>\n",
       "      <td>yes</td>\n",
       "      <td>yes</td>\n",
       "      <td>yes</td>\n",
       "      <td>no</td>\n",
       "      <td>yes</td>\n",
       "      <td>2</td>\n",
       "      <td>furnished</td>\n",
       "    </tr>\n",
       "  </tbody>\n",
       "</table>\n",
       "</div>"
      ],
      "text/plain": [
       "      price  area  bedrooms  bathrooms  stories mainroad guestroom basement   \n",
       "0  13300000  7420         4          2        3      yes        no       no  \\\n",
       "1  12250000  8960         4          4        4      yes        no       no   \n",
       "2  12250000  9960         3          2        2      yes        no      yes   \n",
       "3  12215000  7500         4          2        2      yes        no      yes   \n",
       "4  11410000  7420         4          1        2      yes       yes      yes   \n",
       "\n",
       "  hotwaterheating airconditioning  parking furnishingstatus  \n",
       "0              no             yes        2        furnished  \n",
       "1              no             yes        3        furnished  \n",
       "2              no              no        2   semi-furnished  \n",
       "3              no             yes        3        furnished  \n",
       "4              no             yes        2        furnished  "
      ]
     },
     "execution_count": 3,
     "metadata": {},
     "output_type": "execute_result"
    }
   ],
   "source": [
    "df.head()"
   ]
  },
  {
   "cell_type": "code",
   "execution_count": 4,
   "id": "739838bc-a38d-4211-ac4c-803a48398b6f",
   "metadata": {},
   "outputs": [],
   "source": [
    "import matplotlib.pyplot as plt\n",
    "import seaborn as sns"
   ]
  },
  {
   "cell_type": "code",
   "execution_count": 26,
   "id": "150112f4-5b6d-4151-851a-748af4976cf1",
   "metadata": {},
   "outputs": [
    {
     "data": {
      "text/plain": [
       "<AxesSubplot: xlabel='price', ylabel='Count'>"
      ]
     },
     "execution_count": 26,
     "metadata": {},
     "output_type": "execute_result"
    },
    {
     "data": {
      "image/png": "[encoded data removed]",
      "text/plain": [
       "<Figure size 640x480 with 1 Axes>"
      ]
     },
     "metadata": {},
     "output_type": "display_data"
    }
   ],
   "source": [
    "#Univariate analysis\n",
    "sns.histplot(df['price'])"
   ]
  },
  {
   "cell_type": "code",
   "execution_count": 15,
   "id": "56ea3c88-bb09-42f0-bff7-b34a30315820",
   "metadata": {},
   "outputs": [
    {
     "data": {
      "image/png": "[encoded data removed]",
      "text/plain": [
       "<Figure size 1000x500 with 1 Axes>"
      ]
     },
     "metadata": {},
     "output_type": "display_data"
    }
   ],
   "source": [
    "status_counts = df['furnishingstatus_decoded'].value_counts()\n",
    "\n",
    "plt.figure(figsize=(10, 5))\n",
    "sns.barplot(x=status_counts.index, y=status_counts.values)\n",
    "plt.xlabel('Furnishing Status')\n",
    "plt.ylabel('Count')\n",
    "plt.xticks(rotation=90)\n",
    "plt.show()\n"
   ]
  },
  {
   "cell_type": "code",
   "execution_count": 27,
   "id": "bc6e91b4-7df7-49a5-a64b-a3c26843dd57",
   "metadata": {},
   "outputs": [
    {
     "data": {
      "image/png": "[encoded data removed]",
      "text/plain": [
       "<Figure size 1500x500 with 1 Axes>"
      ]
     },
     "metadata": {},
     "output_type": "display_data"
    }
   ],
   "source": [
    "#Bivariate Analysis\n",
    "\n",
    "plt.figure(figsize=(15, 5))\n",
    "sns.barplot(x=df['bedrooms'], y=df['price'])\n",
    "plt.xticks(rotation='vertical')\n",
    "plt.show()\n"
   ]
  },
  {
   "cell_type": "code",
   "execution_count": 12,
   "id": "b29745ab-f0e5-49c2-bf24-e9d7a92ee12f",
   "metadata": {},
   "outputs": [
    {
     "data": {
      "image/png": "[encoded data removed]",
      "text/plain": [
       "<Figure size 1500x500 with 1 Axes>"
      ]
     },
     "metadata": {},
     "output_type": "display_data"
    }
   ],
   "source": [
    "plt.figure(figsize=(15, 5))\n",
    "sns.barplot(x=df['furnishingstatus'], y=df['price'])\n",
    "plt.xticks(rotation=90)\n",
    "plt.show()\n"
   ]
  },
  {
   "cell_type": "code",
   "execution_count": 16,
   "id": "3c51941b-0cb8-4064-a1d0-fce17202e943",
   "metadata": {},
   "outputs": [
    {
     "data": {
      "text/plain": [
       "<AxesSubplot: xlabel='area', ylabel='price'>"
      ]
     },
     "execution_count": 16,
     "metadata": {},
     "output_type": "execute_result"
    },
    {
     "data": {
      "image/png": "[encoded data removed]",
      "text/plain": [
       "<Figure size 640x480 with 1 Axes>"
      ]
     },
     "metadata": {},
     "output_type": "display_data"
    }
   ],
   "source": [
    "sns.scatterplot(x=df['area'],\n",
    "                y=df['price'])"
   ]
  },
  {
   "cell_type": "code",
   "execution_count": 28,
   "id": "8452e1dc-15a9-4499-b815-3d927785ff8b",
   "metadata": {},
   "outputs": [
    {
     "data": {
      "image/png": "[encoded data removed]",
      "text/plain": [
       "<Figure size 1000x800 with 2 Axes>"
      ]
     },
     "metadata": {},
     "output_type": "display_data"
    }
   ],
   "source": [
    "#Multi-Variate Analysis\n",
    "\n",
    "numeric_columns = df.select_dtypes(include='number')\n",
    "numeric_columns = numeric_columns.drop('furnishingstatus_encoded', axis=1)\n",
    "plt.figure(figsize=(10, 8))\n",
    "sns.heatmap(numeric_columns.corr(), annot=True)\n",
    "plt.title(\"Correlation Heatmap\")\n",
    "plt.show()\n",
    "\n"
   ]
  },
  {
   "cell_type": "code",
   "execution_count": 29,
   "id": "b5d2ced7-3ef3-481a-add3-84986807da27",
   "metadata": {},
   "outputs": [
    {
     "data": {
      "text/html": [
       "<div>\n",
       "<style scoped>\n",
       "    .dataframe tbody tr th:only-of-type {\n",
       "        vertical-align: middle;\n",
       "    }\n",
       "\n",
       "    .dataframe tbody tr th {\n",
       "        vertical-align: top;\n",
       "    }\n",
       "\n",
       "    .dataframe thead th {\n",
       "        text-align: right;\n",
       "    }\n",
       "</style>\n",
       "<table border=\"1\" class=\"dataframe\">\n",
       "  <thead>\n",
       "    <tr style=\"text-align: right;\">\n",
       "      <th></th>\n",
       "      <th>price</th>\n",
       "      <th>area</th>\n",
       "      <th>bedrooms</th>\n",
       "      <th>bathrooms</th>\n",
       "      <th>stories</th>\n",
       "      <th>parking</th>\n",
       "      <th>furnishingstatus_encoded</th>\n",
       "    </tr>\n",
       "  </thead>\n",
       "  <tbody>\n",
       "    <tr>\n",
       "      <th>count</th>\n",
       "      <td>5.450000e+02</td>\n",
       "      <td>545.000000</td>\n",
       "      <td>545.000000</td>\n",
       "      <td>545.000000</td>\n",
       "      <td>545.000000</td>\n",
       "      <td>545.000000</td>\n",
       "      <td>545.000000</td>\n",
       "    </tr>\n",
       "    <tr>\n",
       "      <th>mean</th>\n",
       "      <td>4.681894e+06</td>\n",
       "      <td>5033.231193</td>\n",
       "      <td>2.954128</td>\n",
       "      <td>1.244037</td>\n",
       "      <td>1.805505</td>\n",
       "      <td>0.693578</td>\n",
       "      <td>1.159633</td>\n",
       "    </tr>\n",
       "    <tr>\n",
       "      <th>std</th>\n",
       "      <td>1.703666e+06</td>\n",
       "      <td>1930.206211</td>\n",
       "      <td>0.714674</td>\n",
       "      <td>0.429909</td>\n",
       "      <td>0.867492</td>\n",
       "      <td>0.861586</td>\n",
       "      <td>0.805669</td>\n",
       "    </tr>\n",
       "    <tr>\n",
       "      <th>min</th>\n",
       "      <td>1.750000e+06</td>\n",
       "      <td>1650.000000</td>\n",
       "      <td>1.000000</td>\n",
       "      <td>1.000000</td>\n",
       "      <td>1.000000</td>\n",
       "      <td>0.000000</td>\n",
       "      <td>0.000000</td>\n",
       "    </tr>\n",
       "    <tr>\n",
       "      <th>25%</th>\n",
       "      <td>3.430000e+06</td>\n",
       "      <td>3600.000000</td>\n",
       "      <td>2.000000</td>\n",
       "      <td>1.000000</td>\n",
       "      <td>1.000000</td>\n",
       "      <td>0.000000</td>\n",
       "      <td>0.000000</td>\n",
       "    </tr>\n",
       "    <tr>\n",
       "      <th>50%</th>\n",
       "      <td>4.340000e+06</td>\n",
       "      <td>4600.000000</td>\n",
       "      <td>3.000000</td>\n",
       "      <td>1.000000</td>\n",
       "      <td>2.000000</td>\n",
       "      <td>0.000000</td>\n",
       "      <td>1.000000</td>\n",
       "    </tr>\n",
       "    <tr>\n",
       "      <th>75%</th>\n",
       "      <td>5.600000e+06</td>\n",
       "      <td>6325.000000</td>\n",
       "      <td>3.000000</td>\n",
       "      <td>1.000000</td>\n",
       "      <td>2.000000</td>\n",
       "      <td>1.000000</td>\n",
       "      <td>2.000000</td>\n",
       "    </tr>\n",
       "    <tr>\n",
       "      <th>max</th>\n",
       "      <td>1.015000e+07</td>\n",
       "      <td>11460.000000</td>\n",
       "      <td>5.000000</td>\n",
       "      <td>2.000000</td>\n",
       "      <td>4.000000</td>\n",
       "      <td>3.000000</td>\n",
       "      <td>2.000000</td>\n",
       "    </tr>\n",
       "  </tbody>\n",
       "</table>\n",
       "</div>"
      ],
      "text/plain": [
       "              price          area    bedrooms   bathrooms     stories   \n",
       "count  5.450000e+02    545.000000  545.000000  545.000000  545.000000  \\\n",
       "mean   4.681894e+06   5033.231193    2.954128    1.244037    1.805505   \n",
       "std    1.703666e+06   1930.206211    0.714674    0.429909    0.867492   \n",
       "min    1.750000e+06   1650.000000    1.000000    1.000000    1.000000   \n",
       "25%    3.430000e+06   3600.000000    2.000000    1.000000    1.000000   \n",
       "50%    4.340000e+06   4600.000000    3.000000    1.000000    2.000000   \n",
       "75%    5.600000e+06   6325.000000    3.000000    1.000000    2.000000   \n",
       "max    1.015000e+07  11460.000000    5.000000    2.000000    4.000000   \n",
       "\n",
       "          parking  furnishingstatus_encoded  \n",
       "count  545.000000                545.000000  \n",
       "mean     0.693578                  1.159633  \n",
       "std      0.861586                  0.805669  \n",
       "min      0.000000                  0.000000  \n",
       "25%      0.000000                  0.000000  \n",
       "50%      0.000000                  1.000000  \n",
       "75%      1.000000                  2.000000  \n",
       "max      3.000000                  2.000000  "
      ]
     },
     "execution_count": 29,
     "metadata": {},
     "output_type": "execute_result"
    }
   ],
   "source": [
    "#Perform descriptive statistics on the dataset\n",
    "\n",
    "df.describe()"
   ]
  },
  {
   "cell_type": "code",
   "execution_count": 23,
   "id": "4e1ffbd7-518f-4e22-b7ba-6e48d23fe71c",
   "metadata": {},
   "outputs": [
    {
     "name": "stdout",
     "output_type": "stream",
     "text": [
      "<class 'pandas.core.frame.DataFrame'>\n",
      "RangeIndex: 545 entries, 0 to 544\n",
      "Data columns (total 14 columns):\n",
      " #   Column                    Non-Null Count  Dtype \n",
      "---  ------                    --------------  ----- \n",
      " 0   price                     545 non-null    int64 \n",
      " 1   area                      545 non-null    int64 \n",
      " 2   bedrooms                  545 non-null    int64 \n",
      " 3   bathrooms                 545 non-null    int64 \n",
      " 4   stories                   545 non-null    int64 \n",
      " 5   mainroad                  545 non-null    object\n",
      " 6   guestroom                 545 non-null    object\n",
      " 7   basement                  545 non-null    object\n",
      " 8   hotwaterheating           545 non-null    object\n",
      " 9   airconditioning           545 non-null    object\n",
      " 10  parking                   545 non-null    int64 \n",
      " 11  furnishingstatus          545 non-null    object\n",
      " 12  furnishingstatus_encoded  545 non-null    int64 \n",
      " 13  furnishingstatus_decoded  545 non-null    object\n",
      "dtypes: int64(7), object(7)\n",
      "memory usage: 59.7+ KB\n"
     ]
    }
   ],
   "source": [
    "df.info()"
   ]
  },
  {
   "cell_type": "code",
   "execution_count": 31,
   "id": "d6e05e00-1927-4b00-b432-bfd8d2587abc",
   "metadata": {},
   "outputs": [
    {
     "data": {
      "text/plain": [
       "price               0\n",
       "area                0\n",
       "bedrooms            0\n",
       "bathrooms           0\n",
       "stories             0\n",
       "mainroad            0\n",
       "guestroom           0\n",
       "basement            0\n",
       "hotwaterheating     0\n",
       "airconditioning     0\n",
       "parking             0\n",
       "furnishingstatus    0\n",
       "dtype: int64"
      ]
     },
     "execution_count": 31,
     "metadata": {},
     "output_type": "execute_result"
    }
   ],
   "source": [
    "#Check for Missing values and deal with them.\n",
    "\n",
    "df.isnull().sum()"
   ]
  },
  {
   "cell_type": "code",
   "execution_count": 32,
   "id": "c87b7112-a4a8-4454-93a9-5236153fbcc2",
   "metadata": {},
   "outputs": [
    {
     "data": {
      "text/html": [
       "<div>\n",
       "<style scoped>\n",
       "    .dataframe tbody tr th:only-of-type {\n",
       "        vertical-align: middle;\n",
       "    }\n",
       "\n",
       "    .dataframe tbody tr th {\n",
       "        vertical-align: top;\n",
       "    }\n",
       "\n",
       "    .dataframe thead th {\n",
       "        text-align: right;\n",
       "    }\n",
       "</style>\n",
       "<table border=\"1\" class=\"dataframe\">\n",
       "  <thead>\n",
       "    <tr style=\"text-align: right;\">\n",
       "      <th></th>\n",
       "      <th>price</th>\n",
       "      <th>area</th>\n",
       "      <th>bedrooms</th>\n",
       "      <th>bathrooms</th>\n",
       "      <th>stories</th>\n",
       "      <th>parking</th>\n",
       "    </tr>\n",
       "  </thead>\n",
       "  <tbody>\n",
       "    <tr>\n",
       "      <th>count</th>\n",
       "      <td>5.450000e+02</td>\n",
       "      <td>545.000000</td>\n",
       "      <td>545.000000</td>\n",
       "      <td>545.000000</td>\n",
       "      <td>545.000000</td>\n",
       "      <td>545.000000</td>\n",
       "    </tr>\n",
       "    <tr>\n",
       "      <th>mean</th>\n",
       "      <td>4.681894e+06</td>\n",
       "      <td>5033.231193</td>\n",
       "      <td>2.954128</td>\n",
       "      <td>1.244037</td>\n",
       "      <td>1.805505</td>\n",
       "      <td>0.693578</td>\n",
       "    </tr>\n",
       "    <tr>\n",
       "      <th>std</th>\n",
       "      <td>1.703666e+06</td>\n",
       "      <td>1930.206211</td>\n",
       "      <td>0.714674</td>\n",
       "      <td>0.429909</td>\n",
       "      <td>0.867492</td>\n",
       "      <td>0.861586</td>\n",
       "    </tr>\n",
       "    <tr>\n",
       "      <th>min</th>\n",
       "      <td>1.750000e+06</td>\n",
       "      <td>1650.000000</td>\n",
       "      <td>1.000000</td>\n",
       "      <td>1.000000</td>\n",
       "      <td>1.000000</td>\n",
       "      <td>0.000000</td>\n",
       "    </tr>\n",
       "    <tr>\n",
       "      <th>25%</th>\n",
       "      <td>3.430000e+06</td>\n",
       "      <td>3600.000000</td>\n",
       "      <td>2.000000</td>\n",
       "      <td>1.000000</td>\n",
       "      <td>1.000000</td>\n",
       "      <td>0.000000</td>\n",
       "    </tr>\n",
       "    <tr>\n",
       "      <th>50%</th>\n",
       "      <td>4.340000e+06</td>\n",
       "      <td>4600.000000</td>\n",
       "      <td>3.000000</td>\n",
       "      <td>1.000000</td>\n",
       "      <td>2.000000</td>\n",
       "      <td>0.000000</td>\n",
       "    </tr>\n",
       "    <tr>\n",
       "      <th>75%</th>\n",
       "      <td>5.600000e+06</td>\n",
       "      <td>6325.000000</td>\n",
       "      <td>3.000000</td>\n",
       "      <td>1.000000</td>\n",
       "      <td>2.000000</td>\n",
       "      <td>1.000000</td>\n",
       "    </tr>\n",
       "    <tr>\n",
       "      <th>max</th>\n",
       "      <td>1.015000e+07</td>\n",
       "      <td>11460.000000</td>\n",
       "      <td>5.000000</td>\n",
       "      <td>2.000000</td>\n",
       "      <td>4.000000</td>\n",
       "      <td>3.000000</td>\n",
       "    </tr>\n",
       "  </tbody>\n",
       "</table>\n",
       "</div>"
      ],
      "text/plain": [
       "              price          area    bedrooms   bathrooms     stories   \n",
       "count  5.450000e+02    545.000000  545.000000  545.000000  545.000000  \\\n",
       "mean   4.681894e+06   5033.231193    2.954128    1.244037    1.805505   \n",
       "std    1.703666e+06   1930.206211    0.714674    0.429909    0.867492   \n",
       "min    1.750000e+06   1650.000000    1.000000    1.000000    1.000000   \n",
       "25%    3.430000e+06   3600.000000    2.000000    1.000000    1.000000   \n",
       "50%    4.340000e+06   4600.000000    3.000000    1.000000    2.000000   \n",
       "75%    5.600000e+06   6325.000000    3.000000    1.000000    2.000000   \n",
       "max    1.015000e+07  11460.000000    5.000000    2.000000    4.000000   \n",
       "\n",
       "          parking  \n",
       "count  545.000000  \n",
       "mean     0.693578  \n",
       "std      0.861586  \n",
       "min      0.000000  \n",
       "25%      0.000000  \n",
       "50%      0.000000  \n",
       "75%      1.000000  \n",
       "max      3.000000  "
      ]
     },
     "execution_count": 32,
     "metadata": {},
     "output_type": "execute_result"
    }
   ],
   "source": [
    "#Find the outliers and replace them outliers\n",
    "\n",
    "# CHECKING FOR OUTLIERS IN AGE\n",
    "\n",
    "# Using the Z-score method\n",
    "\n",
    "\n",
    "numeric_columns = ['price', 'area', 'bedrooms', 'bathrooms', 'stories', 'parking']\n",
    "\n",
    "def replace_outliers_zscore(df, column):\n",
    "    z_scores = np.abs((df[column] - df[column].mean()) / df[column].std())\n",
    "    \n",
    "    threshold = 3\n",
    "    \n",
    "    # Replace outliers with median value\n",
    "    df.loc[z_scores > threshold, column] = df[column].median()\n",
    "    \n",
    "    return df\n",
    "\n",
    "# Replace outliers in each numerical column using Z-score method\n",
    "for column in numeric_columns:\n",
    "    df = replace_outliers_zscore(df, column)\n",
    "\n",
    "\n",
    "df.describe()"
   ]
  },
  {
   "cell_type": "code",
   "execution_count": 35,
   "id": "bd716f11-5446-4fa0-8f66-8943a965d6fb",
   "metadata": {},
   "outputs": [
    {
     "name": "stdout",
     "output_type": "stream",
     "text": [
      "     price  area  bedrooms  bathrooms  stories  mainroad  guestroom  basement   \n",
      "0  4340000  7420         4          2        3         1          0         0  \\\n",
      "1  4340000  8960         4          1        4         1          0         0   \n",
      "2  4340000  9960         3          2        2         1          0         1   \n",
      "3  4340000  7500         4          2        2         1          0         1   \n",
      "4  4340000  7420         4          1        2         1          1         1   \n",
      "\n",
      "   hotwaterheating  airconditioning  parking  furnishingstatus  \n",
      "0                0                1        2                 0  \n",
      "1                0                1        3                 0  \n",
      "2                0                0        2                 1  \n",
      "3                0                1        3                 0  \n",
      "4                0                1        2                 0  \n"
     ]
    }
   ],
   "source": [
    "#Check for Categorical columns and perform encoding\n",
    "\n",
    "categorical_columns = df.select_dtypes(include='object').columns\n",
    "\n",
    "df_encoded = pd.get_dummies(df, columns=categorical_columns)\n",
    "\n",
    "print(df_encoded.head())"
   ]
  },
  {
   "cell_type": "code",
   "execution_count": 34,
   "id": "0198d9fa-0536-4f3c-ad84-63b402be4600",
   "metadata": {},
   "outputs": [
    {
     "data": {
      "text/html": [
       "<div>\n",
       "<style scoped>\n",
       "    .dataframe tbody tr th:only-of-type {\n",
       "        vertical-align: middle;\n",
       "    }\n",
       "\n",
       "    .dataframe tbody tr th {\n",
       "        vertical-align: top;\n",
       "    }\n",
       "\n",
       "    .dataframe thead th {\n",
       "        text-align: right;\n",
       "    }\n",
       "</style>\n",
       "<table border=\"1\" class=\"dataframe\">\n",
       "  <thead>\n",
       "    <tr style=\"text-align: right;\">\n",
       "      <th></th>\n",
       "      <th>mainroad</th>\n",
       "      <th>guestroom</th>\n",
       "      <th>basement</th>\n",
       "      <th>hotwaterheating</th>\n",
       "      <th>airconditioning</th>\n",
       "      <th>furnishingstatus</th>\n",
       "    </tr>\n",
       "  </thead>\n",
       "  <tbody>\n",
       "    <tr>\n",
       "      <th>0</th>\n",
       "      <td>1</td>\n",
       "      <td>0</td>\n",
       "      <td>0</td>\n",
       "      <td>0</td>\n",
       "      <td>1</td>\n",
       "      <td>0</td>\n",
       "    </tr>\n",
       "    <tr>\n",
       "      <th>1</th>\n",
       "      <td>1</td>\n",
       "      <td>0</td>\n",
       "      <td>0</td>\n",
       "      <td>0</td>\n",
       "      <td>1</td>\n",
       "      <td>0</td>\n",
       "    </tr>\n",
       "    <tr>\n",
       "      <th>2</th>\n",
       "      <td>1</td>\n",
       "      <td>0</td>\n",
       "      <td>1</td>\n",
       "      <td>0</td>\n",
       "      <td>0</td>\n",
       "      <td>1</td>\n",
       "    </tr>\n",
       "    <tr>\n",
       "      <th>3</th>\n",
       "      <td>1</td>\n",
       "      <td>0</td>\n",
       "      <td>1</td>\n",
       "      <td>0</td>\n",
       "      <td>1</td>\n",
       "      <td>0</td>\n",
       "    </tr>\n",
       "    <tr>\n",
       "      <th>4</th>\n",
       "      <td>1</td>\n",
       "      <td>1</td>\n",
       "      <td>1</td>\n",
       "      <td>0</td>\n",
       "      <td>1</td>\n",
       "      <td>0</td>\n",
       "    </tr>\n",
       "    <tr>\n",
       "      <th>...</th>\n",
       "      <td>...</td>\n",
       "      <td>...</td>\n",
       "      <td>...</td>\n",
       "      <td>...</td>\n",
       "      <td>...</td>\n",
       "      <td>...</td>\n",
       "    </tr>\n",
       "    <tr>\n",
       "      <th>540</th>\n",
       "      <td>1</td>\n",
       "      <td>0</td>\n",
       "      <td>1</td>\n",
       "      <td>0</td>\n",
       "      <td>0</td>\n",
       "      <td>2</td>\n",
       "    </tr>\n",
       "    <tr>\n",
       "      <th>541</th>\n",
       "      <td>0</td>\n",
       "      <td>0</td>\n",
       "      <td>0</td>\n",
       "      <td>0</td>\n",
       "      <td>0</td>\n",
       "      <td>1</td>\n",
       "    </tr>\n",
       "    <tr>\n",
       "      <th>542</th>\n",
       "      <td>1</td>\n",
       "      <td>0</td>\n",
       "      <td>0</td>\n",
       "      <td>0</td>\n",
       "      <td>0</td>\n",
       "      <td>2</td>\n",
       "    </tr>\n",
       "    <tr>\n",
       "      <th>543</th>\n",
       "      <td>0</td>\n",
       "      <td>0</td>\n",
       "      <td>0</td>\n",
       "      <td>0</td>\n",
       "      <td>0</td>\n",
       "      <td>0</td>\n",
       "    </tr>\n",
       "    <tr>\n",
       "      <th>544</th>\n",
       "      <td>1</td>\n",
       "      <td>0</td>\n",
       "      <td>0</td>\n",
       "      <td>0</td>\n",
       "      <td>0</td>\n",
       "      <td>2</td>\n",
       "    </tr>\n",
       "  </tbody>\n",
       "</table>\n",
       "<p>545 rows × 6 columns</p>\n",
       "</div>"
      ],
      "text/plain": [
       "     mainroad  guestroom  basement  hotwaterheating  airconditioning   \n",
       "0           1          0         0                0                1  \\\n",
       "1           1          0         0                0                1   \n",
       "2           1          0         1                0                0   \n",
       "3           1          0         1                0                1   \n",
       "4           1          1         1                0                1   \n",
       "..        ...        ...       ...              ...              ...   \n",
       "540         1          0         1                0                0   \n",
       "541         0          0         0                0                0   \n",
       "542         1          0         0                0                0   \n",
       "543         0          0         0                0                0   \n",
       "544         1          0         0                0                0   \n",
       "\n",
       "     furnishingstatus  \n",
       "0                   0  \n",
       "1                   0  \n",
       "2                   1  \n",
       "3                   0  \n",
       "4                   0  \n",
       "..                ...  \n",
       "540                 2  \n",
       "541                 1  \n",
       "542                 2  \n",
       "543                 0  \n",
       "544                 2  \n",
       "\n",
       "[545 rows x 6 columns]"
      ]
     },
     "execution_count": 34,
     "metadata": {},
     "output_type": "execute_result"
    }
   ],
   "source": [
    "from sklearn.preprocessing import LabelEncoder\n",
    "\n",
    "label_encoder = LabelEncoder()\n",
    "\n",
    "for column in categorical_columns:\n",
    "    df[column] = label_encoder.fit_transform(df[column])\n",
    "\n",
    "\n",
    "df[categorical_columns]"
   ]
  },
  {
   "cell_type": "code",
   "execution_count": 38,
   "id": "89b89177-f51c-47c5-901b-be4bd921f678",
   "metadata": {},
   "outputs": [
    {
     "name": "stdout",
     "output_type": "stream",
     "text": [
      "Independent variables:       area  bedrooms  bathrooms  stories  mainroad  guestroom  basement   \n",
      "0    7420         4          2        3         1          0         0  \\\n",
      "1    8960         4          1        4         1          0         0   \n",
      "2    9960         3          2        2         1          0         1   \n",
      "3    7500         4          2        2         1          0         1   \n",
      "4    7420         4          1        2         1          1         1   \n",
      "..    ...       ...        ...      ...       ...        ...       ...   \n",
      "540  3000         2          1        1         1          0         1   \n",
      "541  2400         3          1        1         0          0         0   \n",
      "542  3620         2          1        1         1          0         0   \n",
      "543  2910         3          1        1         0          0         0   \n",
      "544  3850         3          1        2         1          0         0   \n",
      "\n",
      "     hotwaterheating  airconditioning  parking  furnishingstatus  \n",
      "0                  0                1        2                 0  \n",
      "1                  0                1        3                 0  \n",
      "2                  0                0        2                 1  \n",
      "3                  0                1        3                 0  \n",
      "4                  0                1        2                 0  \n",
      "..               ...              ...      ...               ...  \n",
      "540                0                0        2                 2  \n",
      "541                0                0        0                 1  \n",
      "542                0                0        0                 2  \n",
      "543                0                0        0                 0  \n",
      "544                0                0        0                 2  \n",
      "\n",
      "[545 rows x 11 columns]\n",
      "Dependent variable:  0      4340000\n",
      "1      4340000\n",
      "2      4340000\n",
      "3      4340000\n",
      "4      4340000\n",
      "        ...   \n",
      "540    1820000\n",
      "541    1767150\n",
      "542    1750000\n",
      "543    1750000\n",
      "544    1750000\n",
      "Name: price, Length: 545, dtype: int64\n"
     ]
    }
   ],
   "source": [
    "#. Split the data into dependent and independent variables. \n",
    "\n",
    "# Independent variables (features)\n",
    "X = df.drop('price', axis=1) \n",
    "print('Independent variables: ', X)\n",
    "\n",
    "# Dependent variable (target)\n",
    "y = df['price'] \n",
    "print('Dependent variable: ' , y)"
   ]
  },
  {
   "cell_type": "code",
   "execution_count": 39,
   "id": "a2fe0249-a077-4432-8d94-93c6b4535183",
   "metadata": {},
   "outputs": [
    {
     "name": "stdout",
     "output_type": "stream",
     "text": [
      "[[ 1.23767166  1.46476817  1.76004101 ...  1.4726183   1.51769249\n",
      "  -1.40628573]\n",
      " [ 2.03624685  1.46476817 -0.56816858 ...  1.4726183   2.67940935\n",
      "  -1.40628573]\n",
      " [ 2.55480217  0.06424422  1.76004101 ... -0.67906259  1.51769249\n",
      "  -0.09166185]\n",
      " ...\n",
      " [-0.73283855 -1.33627974 -0.56816858 ... -0.67906259 -0.80574124\n",
      "   1.22296203]\n",
      " [-1.10101283  0.06424422 -0.56816858 ... -0.67906259 -0.80574124\n",
      "  -1.40628573]\n",
      " [-0.61357083  0.06424422 -0.56816858 ... -0.67906259 -0.80574124\n",
      "   1.22296203]]\n"
     ]
    }
   ],
   "source": [
    "#Scale the independent variables\n",
    "\n",
    "from sklearn.preprocessing import StandardScaler\n",
    "\n",
    "# Initialize the StandardScaler\n",
    "scaler = StandardScaler()\n",
    "\n",
    "# Scale the independent variables\n",
    "X_scaled = scaler.fit_transform(X)\n",
    "\n",
    "print(X_scaled)\n"
   ]
  },
  {
   "cell_type": "code",
   "execution_count": 41,
   "id": "66e9d27c-bb25-4d73-82ce-96fab487ce96",
   "metadata": {},
   "outputs": [
    {
     "name": "stdout",
     "output_type": "stream",
     "text": [
      "Training Feature Set: \n",
      "     area  bedrooms  bathrooms  stories  mainroad  guestroom  basement   \n",
      "46   6000         3          2        4         1          0         0  \\\n",
      "93   7200         3          2        1         1          0         1   \n",
      "335  3816         2          1        1         1          0         1   \n",
      "412  2610         3          1        2         1          0         1   \n",
      "471  3750         3          1        2         1          0         0   \n",
      "..    ...       ...        ...      ...       ...        ...       ...   \n",
      "71   6000         4          2        4         1          0         0   \n",
      "106  5450         4          2        1         1          0         1   \n",
      "270  4500         3          2        3         1          0         0   \n",
      "435  4040         2          1        1         1          0         0   \n",
      "102  5500         3          2        4         1          1         0   \n",
      "\n",
      "     hotwaterheating  airconditioning  parking  furnishingstatus  \n",
      "46                 0                1        1                 0  \n",
      "93                 0                1        3                 1  \n",
      "335                0                1        2                 0  \n",
      "412                0                0        0                 2  \n",
      "471                0                0        0                 2  \n",
      "..               ...              ...      ...               ...  \n",
      "71                 0                1        0                 2  \n",
      "106                0                1        0                 1  \n",
      "270                1                0        1                 0  \n",
      "435                0                0        0                 2  \n",
      "102                0                1        1                 1  \n",
      "\n",
      "[436 rows x 11 columns]\n",
      "Training Target Set: \n",
      "46     7525000\n",
      "93     6300000\n",
      "335    3920000\n",
      "412    3430000\n",
      "471    3010000\n",
      "        ...   \n",
      "71     6755000\n",
      "106    6160000\n",
      "270    4340000\n",
      "435    3290000\n",
      "102    6195000\n",
      "Name: price, Length: 436, dtype: int64\n"
     ]
    }
   ],
   "source": [
    "#. Split the data into training and testing\n",
    "\n",
    "from sklearn.model_selection import train_test_split\n",
    "\n",
    "# Split the data into training and testing sets\n",
    "X_train, X_test, y_train, y_test = train_test_split(X, y, test_size=0.2, random_state=42)\n",
    "print('Training Feature Set: ')\n",
    "print(X_train)\n",
    "print('Training Target Set: ')\n",
    "print(y_train)"
   ]
  },
  {
   "cell_type": "code",
   "execution_count": 42,
   "id": "add7a1ed-fa91-4608-9a2c-0f6b4eb2c32c",
   "metadata": {},
   "outputs": [],
   "source": [
    "#Build the Model\n",
    "\n",
    "from sklearn.linear_model import LinearRegression\n",
    "LinReg = LinearRegression()"
   ]
  },
  {
   "cell_type": "code",
   "execution_count": 43,
   "id": "a32695c4-47ae-46eb-a7c2-794210273339",
   "metadata": {},
   "outputs": [
    {
     "data": {
      "text/html": [
       "<style>#sk-container-id-1 {color: black;background-color: white;}#sk-container-id-1 pre{padding: 0;}#sk-container-id-1 div.sk-toggleable {background-color: white;}#sk-container-id-1 label.sk-toggleable__label {cursor: pointer;display: block;width: 100%;margin-bottom: 0;padding: 0.3em;box-sizing: border-box;text-align: center;}#sk-container-id-1 label.sk-toggleable__label-arrow:before {content: \"▸\";float: left;margin-right: 0.25em;color: #696969;}#sk-container-id-1 label.sk-toggleable__label-arrow:hover:before {color: black;}#sk-container-id-1 div.sk-estimator:hover label.sk-toggleable__label-arrow:before {color: black;}#sk-container-id-1 div.sk-toggleable__content {max-height: 0;max-width: 0;overflow: hidden;text-align: left;background-color: #f0f8ff;}#sk-container-id-1 div.sk-toggleable__content pre {margin: 0.2em;color: black;border-radius: 0.25em;background-color: #f0f8ff;}#sk-container-id-1 input.sk-toggleable__control:checked~div.sk-toggleable__content {max-height: 200px;max-width: 100%;overflow: auto;}#sk-container-id-1 input.sk-toggleable__control:checked~label.sk-toggleable__label-arrow:before {content: \"▾\";}#sk-container-id-1 div.sk-estimator input.sk-toggleable__control:checked~label.sk-toggleable__label {background-color: #d4ebff;}#sk-container-id-1 div.sk-label input.sk-toggleable__control:checked~label.sk-toggleable__label {background-color: #d4ebff;}#sk-container-id-1 input.sk-hidden--visually {border: 0;clip: rect(1px 1px 1px 1px);clip: rect(1px, 1px, 1px, 1px);height: 1px;margin: -1px;overflow: hidden;padding: 0;position: absolute;width: 1px;}#sk-container-id-1 div.sk-estimator {font-family: monospace;background-color: #f0f8ff;border: 1px dotted black;border-radius: 0.25em;box-sizing: border-box;margin-bottom: 0.5em;}#sk-container-id-1 div.sk-estimator:hover {background-color: #d4ebff;}#sk-container-id-1 div.sk-parallel-item::after {content: \"\";width: 100%;border-bottom: 1px solid gray;flex-grow: 1;}#sk-container-id-1 div.sk-label:hover label.sk-toggleable__label {background-color: #d4ebff;}#sk-container-id-1 div.sk-serial::before {content: \"\";position: absolute;border-left: 1px solid gray;box-sizing: border-box;top: 0;bottom: 0;left: 50%;z-index: 0;}#sk-container-id-1 div.sk-serial {display: flex;flex-direction: column;align-items: center;background-color: white;padding-right: 0.2em;padding-left: 0.2em;position: relative;}#sk-container-id-1 div.sk-item {position: relative;z-index: 1;}#sk-container-id-1 div.sk-parallel {display: flex;align-items: stretch;justify-content: center;background-color: white;position: relative;}#sk-container-id-1 div.sk-item::before, #sk-container-id-1 div.sk-parallel-item::before {content: \"\";position: absolute;border-left: 1px solid gray;box-sizing: border-box;top: 0;bottom: 0;left: 50%;z-index: -1;}#sk-container-id-1 div.sk-parallel-item {display: flex;flex-direction: column;z-index: 1;position: relative;background-color: white;}#sk-container-id-1 div.sk-parallel-item:first-child::after {align-self: flex-end;width: 50%;}#sk-container-id-1 div.sk-parallel-item:last-child::after {align-self: flex-start;width: 50%;}#sk-container-id-1 div.sk-parallel-item:only-child::after {width: 0;}#sk-container-id-1 div.sk-dashed-wrapped {border: 1px dashed gray;margin: 0 0.4em 0.5em 0.4em;box-sizing: border-box;padding-bottom: 0.4em;background-color: white;}#sk-container-id-1 div.sk-label label {font-family: monospace;font-weight: bold;display: inline-block;line-height: 1.2em;}#sk-container-id-1 div.sk-label-container {text-align: center;}#sk-container-id-1 div.sk-container {/* jupyter's `normalize.less` sets `[hidden] { display: none; }` but bootstrap.min.css set `[hidden] { display: none !important; }` so we also need the `!important` here to be able to override the default hidden behavior on the sphinx rendered scikit-learn.org. See: https://github.com/scikit-learn/scikit-learn/issues/21755 */display: inline-block !important;position: relative;}#sk-container-id-1 div.sk-text-repr-fallback {display: none;}</style><div id=\"sk-container-id-1\" class=\"sk-top-container\"><div class=\"sk-text-repr-fallback\"><pre>LinearRegression()</pre><b>In a Jupyter environment, please rerun this cell to show the HTML representation or trust the notebook. <br />On GitHub, the HTML representation is unable to render, please try loading this page with nbviewer.org.</b></div><div class=\"sk-container\" hidden><div class=\"sk-item\"><div class=\"sk-estimator sk-toggleable\"><input class=\"sk-toggleable__control sk-hidden--visually\" id=\"sk-estimator-id-1\" type=\"checkbox\" checked><label for=\"sk-estimator-id-1\" class=\"sk-toggleable__label sk-toggleable__label-arrow\">LinearRegression</label><div class=\"sk-toggleable__content\"><pre>LinearRegression()</pre></div></div></div></div></div>"
      ],
      "text/plain": [
       "LinearRegression()"
      ]
     },
     "execution_count": 43,
     "metadata": {},
     "output_type": "execute_result"
    }
   ],
   "source": [
    "#Train the Model\n",
    "\n",
    "LinReg.fit(X_train, y_train)"
   ]
  },
  {
   "cell_type": "code",
   "execution_count": 45,
   "id": "f1bdd82b-c4f4-4bd7-a479-08f8a1b757a9",
   "metadata": {},
   "outputs": [
    {
     "data": {
      "text/plain": [
       "array([5172789.71542468, 6616199.84495555, 3307905.46657145,\n",
       "       4722504.03116178, 3622608.91270267, 3958226.32024596,\n",
       "       5673471.6538346 , 6023639.68503178, 2781351.14205899,\n",
       "       2744571.75304821, 6767347.25571312, 3102277.09321676,\n",
       "       3137309.71944517, 3394529.35826977, 3995567.93602049,\n",
       "       3275144.27303633, 3162569.57287226, 4922173.52358152,\n",
       "       4595374.75044619, 3800460.42698035, 5283186.60687799,\n",
       "       5462429.95257899, 3030655.58111649, 4367719.73081261,\n",
       "       5264882.3957425 , 6905005.62025483, 3538797.18721173,\n",
       "       5367728.08478089, 5416788.11467117, 3592863.3210257 ,\n",
       "       5802730.44999688, 3548213.02474461, 6778065.32972697,\n",
       "       4478152.99509935, 3992581.79721865, 5719765.68800309,\n",
       "       4886668.87019191, 4603061.935152  , 3232814.40045533,\n",
       "       4821397.67044197, 4708571.2679492 , 3676087.08494045,\n",
       "       6596095.56085723, 4177601.25392079, 3988938.09040212,\n",
       "       4370132.73107703, 6678881.22322465, 4265002.15284227,\n",
       "       4136642.51007544, 3483374.88344544, 7125276.0405933 ,\n",
       "       2994915.71448398, 4551614.04769527, 4396560.60128771,\n",
       "       4068455.29742004, 2797345.49880631, 6851938.53699403,\n",
       "       3239918.32974458, 4592505.44245169, 3068602.41735207,\n",
       "       4678026.65880887, 3582355.1427808 , 4943308.67516381,\n",
       "       4371423.83892139, 4238489.11761276, 4761328.6765604 ,\n",
       "       6563732.77713037, 3751803.49132833, 6020272.2863853 ,\n",
       "       5613415.930601  , 4123140.21275589, 4781393.94034397,\n",
       "       4709935.28496955, 7375226.51721708, 3565710.06359291,\n",
       "       5758512.64846758, 3982724.17091095, 4152871.99007126,\n",
       "       4912830.56662232, 3690186.86369216, 6991547.15731887,\n",
       "       4095810.76896402, 5883375.88827568, 5041410.87514689,\n",
       "       3064005.84388426, 4910535.40146731, 2973116.39942817,\n",
       "       3810133.3935746 , 7257928.92162164, 6128686.45585081,\n",
       "       3405856.68116133, 6076623.13787409, 3841233.6707288 ,\n",
       "       3761536.69960174, 5717302.01302931, 5018134.40517951,\n",
       "       5458358.59558921, 6449630.31605443, 4513638.82747772,\n",
       "       5594407.59439215, 3884715.78593163, 6313629.28342856,\n",
       "       3929474.90167757, 4006184.75362146, 5095234.15147521,\n",
       "       4458082.79697527, 6962054.8946449 , 6359107.92010966,\n",
       "       5746640.75862717])"
      ]
     },
     "execution_count": 45,
     "metadata": {},
     "output_type": "execute_result"
    }
   ],
   "source": [
    "#. Test the Model\n",
    "\n",
    "y_predict = LinReg.predict(X_test)\n",
    "y_predict"
   ]
  },
  {
   "cell_type": "code",
   "execution_count": 46,
   "id": "fa843928-77c7-45e8-9085-bc9f39a0786f",
   "metadata": {},
   "outputs": [
    {
     "data": {
      "text/plain": [
       "316    4060000\n",
       "77     6650000\n",
       "360    3710000\n",
       "90     6440000\n",
       "493    2800000\n",
       "        ...   \n",
       "15     9100000\n",
       "357    3773000\n",
       "39     7910000\n",
       "54     7350000\n",
       "155    5530000\n",
       "Name: price, Length: 109, dtype: int64"
      ]
     },
     "execution_count": 46,
     "metadata": {},
     "output_type": "execute_result"
    }
   ],
   "source": [
    "#Actual price value from test dataset\n",
    "y_test"
   ]
  },
  {
   "cell_type": "code",
   "execution_count": 47,
   "id": "a50872fb-7147-4925-b82f-ea15c0daa7d4",
   "metadata": {},
   "outputs": [
    {
     "name": "stdout",
     "output_type": "stream",
     "text": [
      "R-Square Error: 0.5279108041339723\n"
     ]
    }
   ],
   "source": [
    "#Measure the performance using Metrics.\n",
    "\n",
    "#Using R-Square\n",
    "from sklearn import metrics\n",
    "r_square = metrics.r2_score(y_test, y_predict)\n",
    "print('R-Square Error:', r_square)\n"
   ]
  },
  {
   "cell_type": "code",
   "execution_count": 48,
   "id": "f227d7d0-e657-4e74-bf9f-9d13adefb8f4",
   "metadata": {},
   "outputs": [
    {
     "name": "stdout",
     "output_type": "stream",
     "text": [
      "Adjusted R-Square Error: 0.5078219021822264\n"
     ]
    }
   ],
   "source": [
    "#Using Adjusted R-Square.\n",
    "# Here n = no. of observations and p = no. of independent variables\n",
    "n = 50\n",
    "p = 2\n",
    "Adj_r_square = 1-(1-r_square)*(n-1)/(n-p-1)\n",
    "print('Adjusted R-Square Error:', Adj_r_square)\n"
   ]
  },
  {
   "cell_type": "code",
   "execution_count": null,
   "id": "4283b16f-6518-47e7-a243-67e8b06dec03",
   "metadata": {},
   "outputs": [],
   "source": []
  }
 ],
 "metadata": {
  "kernelspec": {
   "display_name": "Python 3 (ipykernel)",
   "language": "python",
   "name": "python3"
  },
  "language_info": {
   "codemirror_mode": {
    "name": "ipython",
    "version": 3
   },
   "file_extension": ".py",
   "mimetype": "text/x-python",
   "name": "python",
   "nbconvert_exporter": "python",
   "pygments_lexer": "ipython3",
   "version": "3.10.7"
  }
 },
 "nbformat": 4,
 "nbformat_minor": 5
}
